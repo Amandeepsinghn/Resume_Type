{
 "cells": [
  {
   "cell_type": "code",
   "execution_count": 1,
   "metadata": {},
   "outputs": [],
   "source": [
    "import os \n",
    "import sys "
   ]
  },
  {
   "cell_type": "code",
   "execution_count": 16,
   "metadata": {},
   "outputs": [
    {
     "data": {
      "text/plain": [
       "'/home/googlyji/ml_projects/nlp_projects/Resume_Type/Resume_Type'"
      ]
     },
     "execution_count": 16,
     "metadata": {},
     "output_type": "execute_result"
    }
   ],
   "source": [
    "os.getcwd()"
   ]
  },
  {
   "cell_type": "code",
   "execution_count": 5,
   "metadata": {},
   "outputs": [],
   "source": [
    "os.chdir(\"../\")"
   ]
  },
  {
   "cell_type": "code",
   "execution_count": 17,
   "metadata": {},
   "outputs": [
    {
     "data": {
      "text/html": [
       "<div>\n",
       "<style scoped>\n",
       "    .dataframe tbody tr th:only-of-type {\n",
       "        vertical-align: middle;\n",
       "    }\n",
       "\n",
       "    .dataframe tbody tr th {\n",
       "        vertical-align: top;\n",
       "    }\n",
       "\n",
       "    .dataframe thead th {\n",
       "        text-align: right;\n",
       "    }\n",
       "</style>\n",
       "<table border=\"1\" class=\"dataframe\">\n",
       "  <thead>\n",
       "    <tr style=\"text-align: right;\">\n",
       "      <th></th>\n",
       "      <th>Unnamed: 0</th>\n",
       "      <th>Category</th>\n",
       "      <th>Resume</th>\n",
       "    </tr>\n",
       "  </thead>\n",
       "  <tbody>\n",
       "    <tr>\n",
       "      <th>0</th>\n",
       "      <td>468</td>\n",
       "      <td>Automation Testing</td>\n",
       "      <td>* Excellent grasping power in learning new con...</td>\n",
       "    </tr>\n",
       "    <tr>\n",
       "      <th>1</th>\n",
       "      <td>857</td>\n",
       "      <td>Blockchain</td>\n",
       "      <td>Hobbies â¢ Playing Chess â¢ Solving Rubik's ...</td>\n",
       "    </tr>\n",
       "    <tr>\n",
       "      <th>2</th>\n",
       "      <td>549</td>\n",
       "      <td>Operations Manager</td>\n",
       "      <td>IT SKILLS â¢ Well versed with MS Office and I...</td>\n",
       "    </tr>\n",
       "    <tr>\n",
       "      <th>3</th>\n",
       "      <td>280</td>\n",
       "      <td>Health and fitness</td>\n",
       "      <td>SKILLS: Computer: â¢ Can easily operate in Op...</td>\n",
       "    </tr>\n",
       "    <tr>\n",
       "      <th>4</th>\n",
       "      <td>109</td>\n",
       "      <td>Arts</td>\n",
       "      <td>I Other Skills Course/Skill Name Board Year Of...</td>\n",
       "    </tr>\n",
       "    <tr>\n",
       "      <th>...</th>\n",
       "      <td>...</td>\n",
       "      <td>...</td>\n",
       "      <td>...</td>\n",
       "    </tr>\n",
       "    <tr>\n",
       "      <th>764</th>\n",
       "      <td>106</td>\n",
       "      <td>Arts</td>\n",
       "      <td>Additional qualifications April 2000, Web Desi...</td>\n",
       "    </tr>\n",
       "    <tr>\n",
       "      <th>765</th>\n",
       "      <td>270</td>\n",
       "      <td>Health and fitness</td>\n",
       "      <td>Education Details \\r\\nMay 2014 Diploma Nutriti...</td>\n",
       "    </tr>\n",
       "    <tr>\n",
       "      <th>766</th>\n",
       "      <td>860</td>\n",
       "      <td>Blockchain</td>\n",
       "      <td>SOFTWARE SKILLS: Languages: C, C++ &amp; java Oper...</td>\n",
       "    </tr>\n",
       "    <tr>\n",
       "      <th>767</th>\n",
       "      <td>435</td>\n",
       "      <td>SAP Developer</td>\n",
       "      <td>Education Details \\r\\nJanuary 2016 Bachelor Of...</td>\n",
       "    </tr>\n",
       "    <tr>\n",
       "      <th>768</th>\n",
       "      <td>102</td>\n",
       "      <td>Advocate</td>\n",
       "      <td>Good grasping quality and skillful work Educat...</td>\n",
       "    </tr>\n",
       "  </tbody>\n",
       "</table>\n",
       "<p>769 rows × 3 columns</p>\n",
       "</div>"
      ],
      "text/plain": [
       "     Unnamed: 0            Category  \\\n",
       "0           468  Automation Testing   \n",
       "1           857          Blockchain   \n",
       "2           549  Operations Manager   \n",
       "3           280  Health and fitness   \n",
       "4           109                Arts   \n",
       "..          ...                 ...   \n",
       "764         106                Arts   \n",
       "765         270  Health and fitness   \n",
       "766         860          Blockchain   \n",
       "767         435       SAP Developer   \n",
       "768         102            Advocate   \n",
       "\n",
       "                                                Resume  \n",
       "0    * Excellent grasping power in learning new con...  \n",
       "1    Hobbies â¢ Playing Chess â¢ Solving Rubik's ...  \n",
       "2    IT SKILLS â¢ Well versed with MS Office and I...  \n",
       "3    SKILLS: Computer: â¢ Can easily operate in Op...  \n",
       "4    I Other Skills Course/Skill Name Board Year Of...  \n",
       "..                                                 ...  \n",
       "764  Additional qualifications April 2000, Web Desi...  \n",
       "765  Education Details \\r\\nMay 2014 Diploma Nutriti...  \n",
       "766  SOFTWARE SKILLS: Languages: C, C++ & java Oper...  \n",
       "767  Education Details \\r\\nJanuary 2016 Bachelor Of...  \n",
       "768  Good grasping quality and skillful work Educat...  \n",
       "\n",
       "[769 rows x 3 columns]"
      ]
     },
     "execution_count": 17,
     "metadata": {},
     "output_type": "execute_result"
    }
   ],
   "source": [
    "pd.read_csv(\"artifacts/data_ingestion/train.csv\")"
   ]
  },
  {
   "cell_type": "code",
   "execution_count": 6,
   "metadata": {},
   "outputs": [],
   "source": [
    "import pandas as pd \n",
    "import numpy as np "
   ]
  },
  {
   "cell_type": "code",
   "execution_count": 25,
   "metadata": {},
   "outputs": [],
   "source": [
    "from sklearn.preprocessing import LabelEncoder"
   ]
  },
  {
   "cell_type": "code",
   "execution_count": 34,
   "metadata": {},
   "outputs": [],
   "source": [
    "from sklearn.feature_extraction.text import TfidfVectorizer"
   ]
  },
  {
   "cell_type": "code",
   "execution_count": 7,
   "metadata": {},
   "outputs": [],
   "source": [
    "from src.utils import * \n",
    "from src.constants import * \n",
    "import nltk\n",
    "from dataclasses import dataclass"
   ]
  },
  {
   "cell_type": "code",
   "execution_count": 19,
   "metadata": {},
   "outputs": [],
   "source": [
    "from src.exception import Custom_Exception"
   ]
  },
  {
   "cell_type": "code",
   "execution_count": 8,
   "metadata": {},
   "outputs": [
    {
     "name": "stderr",
     "output_type": "stream",
     "text": [
      "[nltk_data] Downloading package wordnet to /home/googlyji/nltk_data...\n",
      "[nltk_data]   Package wordnet is already up-to-date!\n"
     ]
    },
    {
     "data": {
      "text/plain": [
       "True"
      ]
     },
     "execution_count": 8,
     "metadata": {},
     "output_type": "execute_result"
    }
   ],
   "source": [
    "from nltk.corpus import stopwords\n",
    "from nltk.stem import WordNetLemmatizer\n",
    "import re\n",
    "nltk.download(\"wordnet\")"
   ]
  },
  {
   "cell_type": "code",
   "execution_count": 11,
   "metadata": {},
   "outputs": [
    {
     "name": "stderr",
     "output_type": "stream",
     "text": [
      "[nltk_data] Downloading package wordnet to /home/googlyji/nltk_data...\n",
      "[nltk_data]   Package wordnet is already up-to-date!\n"
     ]
    },
    {
     "data": {
      "text/plain": [
       "True"
      ]
     },
     "execution_count": 11,
     "metadata": {},
     "output_type": "execute_result"
    }
   ],
   "source": [
    "import pandas as pd \n",
    "import numpy as np \n",
    "import nltk \n",
    "from nltk.corpus import stopwords\n",
    "from nltk.stem import WordNetLemmatizer\n",
    "import re\n",
    "nltk.download(\"wordnet\")"
   ]
  },
  {
   "cell_type": "code",
   "execution_count": 30,
   "metadata": {},
   "outputs": [],
   "source": [
    "#entity \n",
    "@dataclass\n",
    "class transformation:\n",
    "  root_dir: Path\n",
    "  transformed_train_data: Path\n",
    "  transformed_test_data: Path\n",
    "  transformation_pickle_file: Path "
   ]
  },
  {
   "cell_type": "code",
   "execution_count": 31,
   "metadata": {},
   "outputs": [],
   "source": [
    "# configuration \n",
    "class Configuration_Manager:\n",
    "    def __init__(self,config=config_path,params=params_path):\n",
    "        self.config=read_yaml(config)\n",
    "        self.params=read_yaml(params)\n",
    "\n",
    "        create_directories([self.config.artifacts])\n",
    "\n",
    "    def trasformation_config(self)-> transformation:\n",
    "        config=self.config.trasformation\n",
    "\n",
    "        create_directories([config.root_dir])\n",
    "\n",
    "        transformation_configuration=transformation(\n",
    "            root_dir=config.root_dir,\n",
    "            transformed_train_data=config.transformed_train_data,\n",
    "            transformed_test_data=config.transformed_test_data,\n",
    "            transformation_pickle_file=config.transformation_pickle_file\n",
    "            )\n",
    "        \n",
    "        return transformation_configuration\n",
    "    \n"
   ]
  },
  {
   "cell_type": "code",
   "execution_count": 32,
   "metadata": {},
   "outputs": [],
   "source": [
    "# components\n",
    "class Data_transformation:\n",
    "    def __init__(self,config:transformation):\n",
    "        self.config=config\n",
    "\n",
    "    def remvoing_unwanted_columns(self):\n",
    "        self.df_train=pd.read_csv(\"artifacts/data_ingestion/train.csv\")\n",
    "        self.df_train.drop(\"Unnamed: 0\",inplace=True,axis=1)\n",
    "        self.df_test=pd.read_csv(\"artifacts/data_ingestion/test.csv\")\n",
    "        self.df_test.drop(\"Unnamed: 0\",inplace=True,axis=1)\n",
    "    \n",
    "\n",
    "            \n",
    "    def comp_transformation(self):\n",
    "        corpus=[]\n",
    "        wn=WordNetLemmatizer()\n",
    "        for i in range(len(self.df_train)):\n",
    "            sentence = re.sub(\"[^a-zA-Z]\", \" \", self.df_train['Resume'][i])\n",
    "            sentence=sentence.lower()\n",
    "            sentence=sentence.split()\n",
    "            sentence=[wn.lemmatize(word) for word in sentence if word not in stopwords.words(\"english\")]\n",
    "            sentence=\" \".join(sentence)\n",
    "            corpus.append(sentence)\n",
    "        \n",
    "        self.df_train.drop(\"Resume\",axis=1,inplace=True)\n",
    "\n",
    "        self.df_train['Resume']=corpus\n",
    "\n",
    "        cropus_1=[]\n",
    "        for i in range(len(self.df_test)):\n",
    "            sentence = re.sub(\"[^a-zA-Z]\", \" \", self.df_test['Resume'][i])\n",
    "            sentence=sentence.lower()\n",
    "            sentence=sentence.split()\n",
    "            sentence=[wn.lemmatize(word) for word in sentence if word not in stopwords.words(\"english\")]\n",
    "            sentence=\" \".join(sentence)\n",
    "            cropus_1.append(sentence)\n",
    "        \n",
    "        self.df_test.drop(\"Resume\",axis=1,inplace=True)\n",
    "\n",
    "        self.df_test[\"Resume\"]=cropus_1\n",
    "\n",
    "\n",
    "        self.df_train[\"Category\"]=self.df_train[\"Category\"].map({'Data Science':0, 'HR':1, 'Advocate':2, 'Arts':3, 'Web Designing':4,\n",
    "       'Mechanical Engineer':5, 'Sales':6, 'Health and fitness':7,\n",
    "       'Civil Engineer':8, 'Java Developer':9, 'Business Analyst':10,\n",
    "       'SAP Developer':11, 'Automation Testing':12, 'Electrical Engineering':13,\n",
    "       'Operations Manager':14, 'Python Developer':15, 'DevOps Engineer':16,\n",
    "       'Network Security Engineer':17, 'PMO':18, 'Database':19, 'Hadoop':20,\n",
    "       'ETL Developer':21, 'DotNet Developer':22, 'Blockchain':23, 'Testing':24})\n",
    "\n",
    "        self.df_test[\"Category\"]=self.df_test[\"Category\"].map({'Data Science':0, 'HR':1, 'Advocate':2, 'Arts':3, 'Web Designing':4,\n",
    "       'Mechanical Engineer':5, 'Sales':6, 'Health and fitness':7,\n",
    "       'Civil Engineer':8, 'Java Developer':9, 'Business Analyst':10,\n",
    "       'SAP Developer':11, 'Automation Testing':12, 'Electrical Engineering':13,\n",
    "       'Operations Manager':14, 'Python Developer':15, 'DevOps Engineer':16,\n",
    "       'Network Security Engineer':17, 'PMO':18, 'Database':19, 'Hadoop':20,\n",
    "       'ETL Developer':21, 'DotNet Developer':22, 'Blockchain':23, 'Testing':24})\n",
    "\n",
    "        self.df_train.to_csv(self.config.transformed_train_data,index=False,header=True)\n",
    "        self.df_train.to_csv(self.config.transformed_test_data,index=False,header=True)\n",
    "\n",
    "\n",
    "    \n",
    "\n",
    "        "
   ]
  },
  {
   "cell_type": "code",
   "execution_count": 33,
   "metadata": {},
   "outputs": [],
   "source": [
    "try:\n",
    "    a=Configuration_Manager()\n",
    "    v=a.trasformation_config()\n",
    "    z=Data_transformation(v)\n",
    "    z.remvoing_unwanted_columns()\n",
    "    z.comp_transformation()\n",
    "\n",
    "except Exception as e:\n",
    "    raise(Custom_Exception(e,sys))\n"
   ]
  },
  {
   "cell_type": "code",
   "execution_count": null,
   "metadata": {},
   "outputs": [],
   "source": []
  }
 ],
 "metadata": {
  "kernelspec": {
   "display_name": "knoc",
   "language": "python",
   "name": "python3"
  },
  "language_info": {
   "codemirror_mode": {
    "name": "ipython",
    "version": 3
   },
   "file_extension": ".py",
   "mimetype": "text/x-python",
   "name": "python",
   "nbconvert_exporter": "python",
   "pygments_lexer": "ipython3",
   "version": "3.8.0"
  }
 },
 "nbformat": 4,
 "nbformat_minor": 2
}
