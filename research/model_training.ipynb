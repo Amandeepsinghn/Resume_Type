{
 "cells": [
  {
   "cell_type": "code",
   "execution_count": 5,
   "metadata": {},
   "outputs": [],
   "source": [
    "import os \n",
    "import sys \n"
   ]
  },
  {
   "cell_type": "code",
   "execution_count": 2,
   "metadata": {},
   "outputs": [
    {
     "data": {
      "text/plain": [
       "'/home/googlyji/ml_projects/nlp_projects/Resume_Type/Resume_Type/research'"
      ]
     },
     "execution_count": 2,
     "metadata": {},
     "output_type": "execute_result"
    }
   ],
   "source": [
    "os.getcwd()"
   ]
  },
  {
   "cell_type": "code",
   "execution_count": 3,
   "metadata": {},
   "outputs": [],
   "source": [
    "os.chdir(\"../\")"
   ]
  },
  {
   "cell_type": "code",
   "execution_count": 32,
   "metadata": {},
   "outputs": [],
   "source": [
    "from src.constants import * \n",
    "from src.utils import * \n",
    "from src.config import *\n",
    "from sklearn.neighbors import KNeighborsClassifier\n",
    "import nltk \n",
    "from sklearn.feature_extraction.text import TfidfVectorizer \n",
    "from dataclasses import dataclass\n",
    "from pathlib import Path\n",
    "import pandas as pd \n",
    "import numpy as np \n",
    "from sklearn.metrics import accuracy_score,confusion_matrix,classification_report\n",
    "import dill"
   ]
  },
  {
   "cell_type": "code",
   "execution_count": 33,
   "metadata": {},
   "outputs": [],
   "source": [
    "#entity \n",
    "@dataclass\n",
    "class model_training:\n",
    "    root_dir: Path \n",
    "    saved_model: Path"
   ]
  },
  {
   "cell_type": "code",
   "execution_count": 34,
   "metadata": {},
   "outputs": [],
   "source": [
    "#configuration\n",
    "class Configuration_Manager:\n",
    "    def __init__(self,config=config_path,params=params_path):\n",
    "        self.config=read_yaml(config)\n",
    "        self.params=read_yaml(params)\n",
    "\n",
    "        create_directories([self.config.artifacts])\n",
    "\n",
    "    def model_traning_config(self)->model_training:\n",
    "        config=self.config.model_training\n",
    "        \n",
    "        create_directories([config.root_dir])\n",
    "\n",
    "        model_=model_training(\n",
    "            root_dir=config.root_dir,\n",
    "            saved_model=config.saved_model\n",
    "        )\n",
    "\n",
    "        return model_\n",
    "    \n",
    "    "
   ]
  },
  {
   "cell_type": "code",
   "execution_count": 35,
   "metadata": {},
   "outputs": [],
   "source": [
    "# compoenents \n",
    "class Model_training_:\n",
    "    def __init__(self,config:model_training):\n",
    "        self.config=config\n",
    "\n",
    "    def model_training_start(self):\n",
    "        X_train=pd.read_csv(\"artifacts/transformation/train.csv\")\n",
    "        X_test=pd.read_csv(\"artifacts/transformation/test.csv\")\n",
    "        \n",
    "        tf=TfidfVectorizer()\n",
    "        x_vectorized_train=tf.fit_transform(X_train[\"Resume\"]).toarray()\n",
    "        x_vectorized_test=tf.fit_transform(X_test[\"Resume\"]).toarray()\n",
    "\n",
    "        y_train=X_train[\"Category\"]\n",
    "        y_test=X_test[\"Category\"]\n",
    "\n",
    "        X_train,X_test,y_train,y_test=x_vectorized_train,x_vectorized_test,y_train,y_test\n",
    "\n",
    "        self.kn=KNeighborsClassifier()\n",
    "        self.kn.fit(X_train,y_train)\n",
    "\n",
    "        self.pred=self.kn.predict(X_test)\n",
    "\n",
    "        self.y_test=y_test\n",
    "\n",
    "\n",
    "    def model_score(self):\n",
    "        print(accuracy_score(self.pred,self.y_test))\n",
    "        print(classification_report(self.pred,self.y_test))\n",
    "\n",
    "    def save_model(self):\n",
    "        with open(self.config.saved_model,\"wb\") as f:\n",
    "            dill.dump(self.kn,f)\n",
    "        \n"
   ]
  },
  {
   "cell_type": "code",
   "execution_count": 36,
   "metadata": {},
   "outputs": [
    {
     "name": "stdout",
     "output_type": "stream",
     "text": [
      "0.988296488946684\n",
      "              precision    recall  f1-score   support\n",
      "\n",
      "           0       0.94      0.94      0.94        35\n",
      "           1       1.00      1.00      1.00        32\n",
      "           2       0.88      1.00      0.94        15\n",
      "           3       1.00      1.00      1.00        30\n",
      "           4       1.00      0.98      0.99        41\n",
      "           5       1.00      1.00      1.00        32\n",
      "           6       1.00      1.00      1.00        32\n",
      "           7       1.00      1.00      1.00        23\n",
      "           8       1.00      1.00      1.00        15\n",
      "           9       1.00      1.00      1.00        69\n",
      "          10       1.00      1.00      1.00        24\n",
      "          11       1.00      0.89      0.94        19\n",
      "          12       0.90      0.95      0.93        20\n",
      "          13       1.00      0.92      0.96        26\n",
      "          14       1.00      1.00      1.00        28\n",
      "          15       1.00      1.00      1.00        38\n",
      "          16       0.93      1.00      0.96        38\n",
      "          17       1.00      1.00      1.00        22\n",
      "          18       1.00      1.00      1.00        23\n",
      "          19       1.00      1.00      1.00        25\n",
      "          20       1.00      1.00      1.00        38\n",
      "          21       1.00      1.00      1.00        33\n",
      "          22       1.00      0.96      0.98        24\n",
      "          23       1.00      1.00      1.00        33\n",
      "          24       1.00      1.00      1.00        54\n",
      "\n",
      "    accuracy                           0.99       769\n",
      "   macro avg       0.99      0.99      0.99       769\n",
      "weighted avg       0.99      0.99      0.99       769\n",
      "\n"
     ]
    }
   ],
   "source": [
    "a=Configuration_Manager()\n",
    "v=a.model_traning_config()\n",
    "z=Model_training_(v)\n",
    "z.model_training_start()\n",
    "z.model_score()\n",
    "z.save_model()"
   ]
  },
  {
   "cell_type": "code",
   "execution_count": null,
   "metadata": {},
   "outputs": [],
   "source": []
  }
 ],
 "metadata": {
  "kernelspec": {
   "display_name": "knoc",
   "language": "python",
   "name": "python3"
  },
  "language_info": {
   "codemirror_mode": {
    "name": "ipython",
    "version": 3
   },
   "file_extension": ".py",
   "mimetype": "text/x-python",
   "name": "python",
   "nbconvert_exporter": "python",
   "pygments_lexer": "ipython3",
   "version": "3.8.0"
  }
 },
 "nbformat": 4,
 "nbformat_minor": 2
}
